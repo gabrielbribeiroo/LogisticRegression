{
 "cells": [
  {
   "cell_type": "markdown",
   "id": "2e05e750",
   "metadata": {},
   "source": [
    "📘 Section 1: Importing Required Libraries"
   ]
  },
  {
   "cell_type": "code",
   "execution_count": null,
   "id": "e2937e3c",
   "metadata": {},
   "outputs": [],
   "source": [
    "import pandas as pd\n",
    "import numpy as np\n",
    "import matplotlib.pyplot as plt\n",
    "import seaborn as sns\n",
    "\n",
    "from sklearn.preprocessing import MinMaxScaler\n",
    "from sklearn.linear_model import LogisticRegression\n",
    "from sklearn.metrics import (\n",
    "    accuracy_score, classification_report,\n",
    "    confusion_matrix, ConfusionMatrixDisplay\n",
    ")\n",
    "from sklearn.feature_selection import SelectFromModel\n",
    "from sklearn.ensemble import GradientBoostingClassifier"
   ]
  },
  {
   "cell_type": "markdown",
   "id": "ece0d14b",
   "metadata": {},
   "source": [
    "📘 Section 2: Loading and Restructuring the Dataset"
   ]
  },
  {
   "cell_type": "code",
   "execution_count": null,
   "id": "ffab3bda",
   "metadata": {},
   "outputs": [],
   "source": [
    "# Load raw CSV data (no header)\n",
    "csv_file = \"Dados-SLA.csv\"\n",
    "raw_data = pd.read_csv(csv_file, header=None)\n",
    "\n",
    "# Define number of clients and expected columns (1 ID + 11 responses)\n",
    "num_clients = 119\n",
    "num_factors = 12\n",
    "\n",
    "# Reshape flat data into structured 2D array\n",
    "reshaped_data = raw_data.values.reshape(num_clients, num_factors)\n",
    "\n",
    "# Define column names\n",
    "columns = [\n",
    "    \"Client ID\", \"Service Rate\", \"Completed Orders\", \"Speed\", \"Consistency\",\n",
    "    \"Flexibility\", \"Failure Recovery\", \"Information\", \"Correct Invoices\",\n",
    "    \"Conforming Products\", \"Correct Quantity\", \"Overall Satisfaction\"\n",
    "]\n",
    "\n",
    "# Create a DataFrame with the structured data\n",
    "data = pd.DataFrame(reshaped_data, columns=columns)"
   ]
  },
  {
   "cell_type": "markdown",
   "id": "ad2b4bd6",
   "metadata": {},
   "source": [
    "📘 Section 3: Creating the Target Variable"
   ]
  },
  {
   "cell_type": "code",
   "execution_count": null,
   "id": "f1b016aa",
   "metadata": {},
   "outputs": [],
   "source": [
    "# Define binary target: 1 for satisfied clients (rating >= 4), 0 otherwise\n",
    "data[\"Satisfied\"] = (data[\"Overall Satisfaction\"].astype(int) >= 4).astype(int)\n",
    "\n",
    "# Define independent variables (features) and dependent variable (target)\n",
    "X = data.drop(columns=[\"Client ID\", \"Overall Satisfaction\", \"Satisfied\"])\n",
    "y = data[\"Satisfied\"]"
   ]
  },
  {
   "cell_type": "markdown",
   "id": "5ee0121e",
   "metadata": {},
   "source": [
    "📘 Section 4: Preprocessing - Data Normalization"
   ]
  },
  {
   "cell_type": "code",
   "execution_count": null,
   "id": "f39a3755",
   "metadata": {},
   "outputs": [],
   "source": [
    "# Display the distribution of satisfaction labels\n",
    "print(\"Original label distribution:\", np.bincount(y))\n",
    "\n",
    "# Normalize feature values to range [0, 1]\n",
    "scaler = MinMaxScaler()\n",
    "X_scaled = scaler.fit_transform(X)"
   ]
  },
  {
   "cell_type": "markdown",
   "id": "f6675c1c",
   "metadata": {},
   "source": [
    "📘 Section 5: Training the Gradient Boosting Classifier"
   ]
  },
  {
   "cell_type": "code",
   "execution_count": null,
   "id": "7001db66",
   "metadata": {},
   "outputs": [],
   "source": [
    "# Initialize Gradient Boosting model with specified hyperparameters\n",
    "gb_model = GradientBoostingClassifier(\n",
    "    n_estimators=300,\n",
    "    learning_rate=0.02,\n",
    "    max_depth=4,\n",
    "    subsample=0.7,\n",
    "    random_state=42\n",
    ")\n",
    "\n",
    "# Fit the model to the entire dataset\n",
    "gb_model.fit(X_scaled, y)\n",
    "\n",
    "# Predict using the trained model\n",
    "y_pred = gb_model.predict(X_scaled)\n",
    "\n",
    "# Show predicted label distribution\n",
    "print(\"Predicted label distribution:\", np.bincount(y_pred))\n",
    "\n",
    "# Evaluate the model performance\n",
    "print(\"Accuracy (Gradient Boosting):\", accuracy_score(y, y_pred))\n",
    "print(\"\\nClassification Report:\\n\", classification_report(y, y_pred))"
   ]
  },
  {
   "cell_type": "markdown",
   "id": "2eeb4a8b",
   "metadata": {},
   "source": [
    "📘 Section 6: Error Analysis - Misclassified Clients"
   ]
  },
  {
   "cell_type": "code",
   "execution_count": null,
   "id": "4535eeea",
   "metadata": {},
   "outputs": [],
   "source": [
    "# Add prediction and correctness columns to the DataFrame\n",
    "data[\"Predicted\"] = y_pred\n",
    "data[\"Correct\"] = (data[\"Satisfied\"] == data[\"Predicted\"]).astype(int)\n",
    "\n",
    "# Filter and display misclassified clients\n",
    "misclassified = data[data[\"Correct\"] == 0][[\"Client ID\", \"Satisfied\", \"Predicted\"]]\n",
    "print(\"\\nClients that reduced the model's accuracy:\")\n",
    "print(misclassified)"
   ]
  }
 ],
 "metadata": {
  "language_info": {
   "name": "python"
  }
 },
 "nbformat": 4,
 "nbformat_minor": 5
}
