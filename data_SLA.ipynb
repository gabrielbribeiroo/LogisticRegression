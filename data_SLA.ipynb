{
 "cells": [
  {
   "cell_type": "markdown",
   "id": "2e05e750",
   "metadata": {},
   "source": [
    "📘 Section 1: Importing Required Libraries"
   ]
  },
  {
   "cell_type": "code",
   "execution_count": null,
   "id": "e2937e3c",
   "metadata": {},
   "outputs": [],
   "source": [
    "import pandas as pd\n",
    "import numpy as np\n",
    "import matplotlib.pyplot as plt\n",
    "import seaborn as sns\n",
    "\n",
    "from sklearn.preprocessing import MinMaxScaler\n",
    "from sklearn.linear_model import LogisticRegression\n",
    "from sklearn.metrics import (\n",
    "    accuracy_score, classification_report,\n",
    "    confusion_matrix, ConfusionMatrixDisplay\n",
    ")\n",
    "from sklearn.feature_selection import SelectFromModel\n",
    "from sklearn.ensemble import GradientBoostingClassifier"
   ]
  },
  {
   "cell_type": "markdown",
   "id": "ece0d14b",
   "metadata": {},
   "source": [
    "📘 Section 2: Loading and Restructuring the Dataset"
   ]
  },
  {
   "cell_type": "code",
   "execution_count": null,
   "id": "ffab3bda",
   "metadata": {},
   "outputs": [],
   "source": [
    "# Load raw CSV data (no header)\n",
    "csv_file = \"Dados-SLA.csv\"\n",
    "raw_data = pd.read_csv(csv_file, header=None)\n",
    "\n",
    "# Define number of clients and expected columns (1 ID + 11 responses)\n",
    "num_clients = 119\n",
    "num_factors = 12\n",
    "\n",
    "# Reshape flat data into structured 2D array\n",
    "reshaped_data = raw_data.values.reshape(num_clients, num_factors)\n",
    "\n",
    "# Define column names\n",
    "columns = [\n",
    "    \"Client ID\", \"Service Rate\", \"Completed Orders\", \"Speed\", \"Consistency\",\n",
    "    \"Flexibility\", \"Failure Recovery\", \"Information\", \"Correct Invoices\",\n",
    "    \"Conforming Products\", \"Correct Quantity\", \"Overall Satisfaction\"\n",
    "]\n",
    "\n",
    "# Create a DataFrame with the structured data\n",
    "data = pd.DataFrame(reshaped_data, columns=columns)"
   ]
  }
 ],
 "metadata": {
  "language_info": {
   "name": "python"
  }
 },
 "nbformat": 4,
 "nbformat_minor": 5
}
